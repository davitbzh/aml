{
 "cells": [
  {
   "cell_type": "code",
   "execution_count": null,
   "metadata": {},
   "outputs": [],
   "source": [
    "spark"
   ]
  },
  {
   "cell_type": "code",
   "execution_count": null,
   "metadata": {},
   "outputs": [],
   "source": [
    "from maggy import Searchspace\n",
    "from hops import featurestore"
   ]
  },
  {
   "cell_type": "code",
   "execution_count": null,
   "metadata": {},
   "outputs": [],
   "source": [
    "# The searchspace can be instantiated with parameters\n",
    "sp = Searchspace(n_layers=('INTEGER', [2,3,4,5]), n_neurons=('INTEGER', [128, 256]) , l_rate=('DISCRETE', [0.001, 0.09]))"
   ]
  },
  {
   "cell_type": "code",
   "execution_count": null,
   "metadata": {},
   "outputs": [],
   "source": [
    "def aml_parallel_experiments(n_layers,n_neurons,l_rate):\n",
    "    \n",
    "    import os\n",
    "    import sys\n",
    "    import uuid\n",
    "    import random\n",
    "    \n",
    "    import numpy as np\n",
    "    \n",
    "    from tensorflow import keras\n",
    "    import tensorflow as tf\n",
    "    from tensorflow.keras.datasets import mnist\n",
    "    from tensorflow.keras.models import Sequential\n",
    "    from tensorflow.keras.layers import Dense, Dropout, Flatten\n",
    "    from tensorflow.keras.layers import Conv2D, MaxPooling2D\n",
    "    from tensorflow.keras.callbacks import TensorBoard\n",
    "    from tensorflow.keras import backend as K\n",
    "\n",
    "    import math\n",
    "    from hops import tensorboard\n",
    "\n",
    "    from hops import model as hops_model\n",
    "    from hops import hdfs\n",
    "\n",
    "    import pydoop.hdfs as pydoop\n",
    "    \n",
    "    batch_size=32\n",
    "    num_classes = 1\n",
    "\n",
    "    # Define input function\n",
    "    def create_tf_dataset(n_epochs, b_size):\n",
    "        dataset_dir = featurestore.get_training_dataset_path(\"embeddings_training_dataset\",\n",
    "                                                                featurestore=featurestore.project_featurestore(),\n",
    "                                                                training_dataset_version=featurestore.get_latest_training_dataset_version(\"embeddings_training_dataset\")\n",
    "                                                            )\n",
    "    \n",
    "        input_files = tf.io.gfile.glob(dataset_dir.replace(\"hopsfs\",\"hdfs\") + \"/part-r-*\")\n",
    "        dataset = tf.data.TFRecordDataset(input_files)\n",
    "        tf_record_schema = featurestore.get_training_dataset_tf_record_schema(\"embeddings_training_dataset\")\n",
    "        feature_names = feature_names = [feat.name for feat in tf_record_schema]\n",
    "        feature_names = [feat for feat in tf_record_schema]\n",
    "        label_name = \"label\"\n",
    "        feature_names.remove(label_name)\n",
    "\n",
    "        def decode(example_proto):\n",
    "            example = tf.io.parse_single_example(example_proto, tf_record_schema)\n",
    "            x = []\n",
    "            for feature_name in feature_names:\n",
    "                if feature_name != \"label\" and feature_name != \"id\":\n",
    "                    x.append(example[feature_name])                \n",
    "            y = [tf.cast(example[label_name], tf.float32)]\n",
    "            if len(x) == 1:\n",
    "                x = x[0]\n",
    "            else:\n",
    "                x = tf.stack(x)            \n",
    "            return x,y\n",
    "\n",
    "        dataset = dataset.map(decode).shuffle(1000).batch(b_size).repeat(n_epochs)\n",
    "        return dataset\n",
    "\n",
    "    \n",
    "    # Define a Keras Model.\n",
    "    model = tf.keras.Sequential()\n",
    "    model.add(tf.keras.layers.Dense(n_neurons, activation='relu', input_shape=(128,)))\n",
    "    for _ in n_layers:\n",
    "        model.add(tf.keras.layers.Dense(n_neurons, activation='relu'))\n",
    "\n",
    "    # Compile the model.\n",
    "    model.compile(loss=tf.keras.losses.BinaryCrossentropy(from_logits=True),\n",
    "                  optimizer= tf.keras.optimizers.Adam(l_rate),\n",
    "                  metrics=['accuracy']\n",
    "                 )\n",
    "        \n",
    "    callbacks = [\n",
    "        tf.keras.callbacks.TensorBoard(log_dir=tensorboard.logdir()),\n",
    "        tf.keras.callbacks.ModelCheckpoint(filepath=tensorboard.logdir()),\n",
    "    ]\n",
    "    \n",
    "    model.fit(data_input(train_filenames, batch_size), \n",
    "        verbose=0,\n",
    "        epochs=3, \n",
    "        steps_per_epoch=5,\n",
    "        validation_data=data_input(validation_filenames, batch_size),\n",
    "        validation_steps=1,                    \n",
    "        callbacks=callbacks\n",
    "    )\n",
    "    \n",
    "    score = model.evaluate(data_input(validation_filenames, batch_size), steps=1)\n",
    "\n",
    "    return score[1]"
   ]
  },
  {
   "cell_type": "code",
   "execution_count": null,
   "metadata": {},
   "outputs": [],
   "source": [
    "from maggy import experiment\n",
    "result = experiment.lagom(aml_parallel_experiments, \n",
    "                           searchspace=sp, \n",
    "                           optimizer='randomsearch', \n",
    "                           direction='max',\n",
    "                           num_trials=10, \n",
    "                           name='anomaly_detection',\n",
    "                           hb_interval=5, \n",
    "                           es_interval=5,\n",
    "                           es_min=5\n",
    "                          )"
   ]
  },
  {
   "cell_type": "code",
   "execution_count": null,
   "metadata": {},
   "outputs": [],
   "source": [
    "import json\n",
    "from hops import hdfs\n",
    "AML_FF_HYPERPARAMS_FILE = 'aml_ff_best_hp.json'\n",
    "hdfs.dump(json.dumps(result['best_hp']), \"Resources/\" + AML_FF_HYPERPARAMS_FILE)"
   ]
  }
 ],
 "metadata": {
  "kernelspec": {
   "display_name": "PySpark",
   "language": "python",
   "name": "pysparkkernel"
  },
  "language_info": {
   "codemirror_mode": {
    "name": "python",
    "version": 3
   },
   "mimetype": "text/x-python",
   "name": "pyspark",
   "pygments_lexer": "python3"
  }
 },
 "nbformat": 4,
 "nbformat_minor": 4
}