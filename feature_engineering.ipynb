{
 "cells": [
  {
   "cell_type": "markdown",
   "metadata": {},
   "source": [
    "## PaySim Dataset\n",
    "\n",
    "##### <b>step</b> - integer - maps a unit of time in the real world. In this case 1 step is 1 hour of time. Total steps 744 (30 days simulation).\n",
    "\n",
    "##### <b>type</b> - string/categorical - type of transaction: CASH_IN, CASH_OUT, DEBIT, PAYMENT and TRANSFER.\n",
    "\n",
    "##### <b>amount</b> - float - amount of the transaction in local currency.\n",
    "\n",
    "##### <b>nameOrig</b> - string - customer who initiated the transaction\n",
    "\n",
    "##### <b>oldbalanceOrg</b> - float initial balance before the transaction\n",
    "\n",
    "##### <b>newbalanceOrig</b> - float - new balance after the transaction\n",
    "\n",
    "##### <b>nameDest</b> - string - customer who is the recipient of the transaction\n",
    "\n",
    "##### <b>oldbalanceDest</b> - float - initial balance of recipient before the transaction.\n",
    "\n",
    "##### <b>newbalanceDest</b> - float - new balance of recipient after the transaction.\n",
    "\n",
    "##### <b>fraud</b> - boolean/binary - determines if transaction is fraudulent"
   ]
  },
  {
   "cell_type": "code",
   "execution_count": 1,
   "metadata": {},
   "outputs": [
    {
     "name": "stdout",
     "output_type": "stream",
     "text": [
      "Starting Spark application\n"
     ]
    },
    {
     "data": {
      "text/html": [
       "<table>\n",
       "<tr><th>ID</th><th>YARN Application ID</th><th>Kind</th><th>State</th><th>Spark UI</th><th>Driver log</th></tr><tr><td>71</td><td>application_1598227897403_0035</td><td>pyspark</td><td>idle</td><td><a target=\"_blank\" href=\"http://resourcemanager.service.consul:8088/proxy/application_1598227897403_0035/\">Link</a></td><td><a target=\"_blank\" href=\"http://hopsworks0.logicalclocks.com:8042/node/containerlogs/container_e02_1598227897403_0035_01_000001/paysim__meb10000\">Link</a></td></tr></table>"
      ],
      "text/plain": [
       "<IPython.core.display.HTML object>"
      ]
     },
     "metadata": {},
     "output_type": "display_data"
    },
    {
     "name": "stdout",
     "output_type": "stream",
     "text": [
      "SparkSession available as 'spark'.\n",
      "<pyspark.sql.session.SparkSession object at 0x7f7a6d5d34a8>"
     ]
    }
   ],
   "source": [
    "spark"
   ]
  },
  {
   "cell_type": "code",
   "execution_count": 2,
   "metadata": {},
   "outputs": [],
   "source": [
    "import hashlib\n",
    "from graphframes import *\n",
    "from pyspark.sql import functions as func"
   ]
  },
  {
   "cell_type": "code",
   "execution_count": 3,
   "metadata": {},
   "outputs": [],
   "source": [
    "df = spark.read.load(\"hdfs:///Projects/paysim/paysim_Training_Datasets/PaySim/paysim_month2.parquet\") "
   ]
  },
  {
   "cell_type": "code",
   "execution_count": null,
   "metadata": {},
   "outputs": [],
   "source": []
  },
  {
   "cell_type": "code",
   "execution_count": 4,
   "metadata": {},
   "outputs": [],
   "source": [
    "def hashnode(x):\n",
    "    return hashlib.sha1(x.encode(\"UTF-8\")).hexdigest()[:8]\n",
    "\n",
    "def extract_node_type(x):\n",
    "    if (x.startswith(\"C\")):\n",
    "        node_type = 0\n",
    "    elif (x.startswith(\"B\")):\n",
    "        node_type = 1\n",
    "    elif (x.startswith(\"M\")):\n",
    "        node_type = 2\n",
    "    else:\n",
    "        node_type = 99\n",
    "    return node_type\n",
    "\n",
    "def extract_fraudster(x):\n",
    "    if (x.startswith(\"CF\")):\n",
    "        fraudster = 1\n",
    "    else:\n",
    "        fraudster = 0\n",
    "    return fraudster\n",
    "\n",
    "def action_2_code(x):\n",
    "    if (x == \"CASH_IN\"):\n",
    "        node_type = 0\n",
    "    elif (x == \"CASH_OUT\"):\n",
    "        node_type = 1\n",
    "    elif (x == \"DEBIT\"):\n",
    "        node_type = 2\n",
    "    elif (x == \"PAYMENT\"):\n",
    "        node_type = 3\n",
    "    elif (x == \"TRANSFER\"):\n",
    "        node_type = 4\n",
    "    elif (x == \"DEPOSIT\"):\n",
    "        node_type = 4        \n",
    "    else:\n",
    "        node_type = 99\n",
    "    return node_type\n",
    "\n",
    "hashnode_udf = func.udf(hashnode)\n",
    "extract_fraudster_udf = func.udf(extract_fraudster)\n",
    "node_type_udf = func.udf(extract_node_type)\n",
    "action_2_code_udf = func.udf(action_2_code)"
   ]
  },
  {
   "cell_type": "code",
   "execution_count": null,
   "metadata": {},
   "outputs": [],
   "source": []
  },
  {
   "cell_type": "code",
   "execution_count": 5,
   "metadata": {},
   "outputs": [],
   "source": [
    "df = df.withColumn(\"label\", func.when(func.col(\"fraud\") == \"true\", 1 ).otherwise(0))\\\n",
    "        .withColumn(\"source\", hashnode_udf(\"nameOrig\"))\\\n",
    "        .withColumn(\"target\", hashnode_udf(\"nameDest\"))\\\n",
    "        .withColumn(\"source_type\", node_type_udf(\"nameOrig\"))\\\n",
    "        .withColumn(\"target_type\", node_type_udf(\"nameDest\"))\\\n",
    "        .withColumn(\"action\", action_2_code_udf(\"action\"))\\\n",
    "\n"
   ]
  },
  {
   "cell_type": "code",
   "execution_count": 6,
   "metadata": {},
   "outputs": [],
   "source": [
    "# Calculate the differences between originating and destination balances\n",
    "df = df.withColumn(\"orgDiff\", df.newBalanceOrig - df.oldBalanceOrig).withColumn(\"destDiff\", df.newBalanceDest - df.oldBalanceDest)"
   ]
  },
  {
   "cell_type": "code",
   "execution_count": 7,
   "metadata": {},
   "outputs": [
    {
     "name": "stdout",
     "output_type": "stream",
     "text": [
      "+--------+--------+-----------+-----------+----+------+------------------+------------------+------------------+---------------+---------------+-----+------------------+---------+\n",
      "|  source|  target|source_type|target_type|step|action|            amount|   oldbalance_orig|   newbalance_orig|oldbalance_dest|newbalance_dest|label|          org_diff|dest_diff|\n",
      "+--------+--------+-----------+-----------+----+------+------------------+------------------+------------------+---------------+---------------+-----+------------------+---------+\n",
      "|4974242a|cd23fd61|          0|          2|   1|     0| 170256.5174409235| 59.45919938690031| 170315.9766403104|            0.0|            0.0|    0| 170256.5174409235|      0.0|\n",
      "|edffbfea|47288a7f|          0|          2|   1|     0|158752.58478194074|252.22923065781498|159004.81401259854|            0.0|            0.0|    0|158752.58478194074|      0.0|\n",
      "|edffbfea|314855ff|          0|          2|   1|     0|159285.57816375262|159004.81401259854|318290.39217635116|            0.0|            0.0|    0|159285.57816375262|      0.0|\n",
      "|67f027a3|0f013a94|          0|          2|   1|     0| 17718.05320538998| 316306.8045239691| 334024.8577293591|            0.0|            0.0|    0|17718.053205389995|      0.0|\n",
      "|5a86628f|6237caa1|          0|          2|   1|     0|193486.92894072825| 73.43808584994545| 193560.3670265782|            0.0|            0.0|    0|193486.92894072825|      0.0|\n",
      "|91809ec2|a609d8b6|          0|          2|   1|     0|100946.06927150181| 1066.522113812134|102012.59138531394|            0.0|            0.0|    0|100946.06927150181|      0.0|\n",
      "|08ca97b7|6ea6b5d3|          0|          2|   1|     0|100459.76371843155| 60.82436513094145| 100520.5880835625|            0.0|            0.0|    0|100459.76371843155|      0.0|\n",
      "|08ca97b7|3df2fa55|          0|          2|   1|     0|127780.61466999972| 100520.5880835625|228301.20275356222|            0.0|            0.0|    0|127780.61466999972|      0.0|\n",
      "|c1f581f2|66b3b090|          0|          2|   1|     0| 60736.50583661602|54.721456915480736|60791.227293531505|            0.0|            0.0|    0| 60736.50583661602|      0.0|\n",
      "|dce665f7|e68c8f63|          0|          2|   1|     0| 85649.53814681339| 47.08160023190062| 85696.61974704529|            0.0|            0.0|    0| 85649.53814681339|      0.0|\n",
      "|5c40e8a2|3a7d5587|          0|          2|   1|     0| 47589.03819581661|10700.189727753903|58289.227923570514|            0.0|            0.0|    0| 47589.03819581661|      0.0|\n",
      "|a1a2d18d|3df2fa55|          0|          2|   1|     0|  70236.6440192843|45.678945229481755| 70282.32296451378|            0.0|            0.0|    0|  70236.6440192843|      0.0|\n",
      "|a14a8023|0f013a94|          0|          2|   1|     0|246381.17680412377| 15.80280374503977| 246396.9796078688|            0.0|            0.0|    0|246381.17680412377|      0.0|\n",
      "|a14a8023|f9dcd4f8|          0|          2|   1|     0|39967.548709854294| 246396.9796078688| 286364.5283177231|            0.0|            0.0|    0| 39967.54870985428|      0.0|\n",
      "|236a99ec|caf770ed|          0|          2|   1|     0|227596.52847386987|40.039666183294095|227636.56814005316|            0.0|            0.0|    0|227596.52847386987|      0.0|\n",
      "|2b9b2c2d|caf770ed|          0|          2|   1|     0|  134472.749629457| 87.80589985370366| 134560.5555293107|            0.0|            0.0|    0|  134472.749629457|      0.0|\n",
      "|f1eb73a4|04064f51|          0|          2|   1|     0| 65196.97850514256| 77.96045156756139| 65274.93895671012|            0.0|            0.0|    0| 65196.97850514256|      0.0|\n",
      "|b7150334|a4ca0025|          0|          2|   1|     0|238703.14095099005| 63.30741304319803|238766.44836403325|            0.0|            0.0|    0|238703.14095099005|      0.0|\n",
      "|b6d1db81|18508dda|          0|          2|   1|     0|315501.85557056556|10447.209786230447|  325949.065356796|            0.0|            0.0|    0|315501.85557056556|      0.0|\n",
      "|6ca4e7b5|3a7d5587|          0|          2|   1|     0| 219411.5311982038| 93.16026458297407|219504.69146278678|            0.0|            0.0|    0| 219411.5311982038|      0.0|\n",
      "+--------+--------+-----------+-----------+----+------+------------------+------------------+------------------+---------------+---------------+-----+------------------+---------+\n",
      "only showing top 20 rows"
     ]
    }
   ],
   "source": [
    "transaction_features = df.select(\"source\",\"target\", \"source_type\",\"target_type\",\"step\",\"action\",\"amount\",\"oldBalanceOrig\",\"newBalanceOrig\",\"oldBalanceDest\",\"newBalanceDest\",\"label\",\"orgDiff\",\"destDiff\")\\\n",
    "                           .toDF(\"source\",\"target\", \"source_type\",\"target_type\",\"step\",\"action\",\"amount\",\"oldbalance_orig\",\"newbalance_orig\",\"oldbalance_dest\",\"newbalance_dest\",\"label\",\"org_diff\",\"dest_diff\")\n",
    "\n",
    "transaction_features.show()"
   ]
  },
  {
   "cell_type": "code",
   "execution_count": 8,
   "metadata": {},
   "outputs": [
    {
     "name": "stdout",
     "output_type": "stream",
     "text": [
      "+--------+----+-----+\n",
      "|      id|type|label|\n",
      "+--------+----+-----+\n",
      "|dc06429a|   0|    0|\n",
      "|d1832e49|   0|    0|\n",
      "|f9ec4c6b|   0|    1|\n",
      "|cb8ace5c|   0|    0|\n",
      "|09a40820|   0|    0|\n",
      "|8e0a0c88|   0|    1|\n",
      "|8f229b69|   0|    1|\n",
      "|1bbf9e1b|   2|    0|\n",
      "|e57eaa76|   0|    1|\n",
      "|6ea6b5d3|   2|    0|\n",
      "|da5b86ab|   0|    1|\n",
      "|a1891a55|   0|    1|\n",
      "|065d3995|   2|    0|\n",
      "|d540b980|   0|    0|\n",
      "|a8858658|   0|    1|\n",
      "|409b5a60|   0|    0|\n",
      "|2b8b8b5c|   0|    0|\n",
      "|b9282016|   0|    0|\n",
      "|b7150334|   0|    0|\n",
      "|67f027a3|   0|    0|\n",
      "+--------+----+-----+\n",
      "only showing top 20 rows"
     ]
    }
   ],
   "source": [
    "node_features = df.select(func.col(\"nameOrig\").alias(\"id\"), func.col(\"nameOrig\").alias(\"type\")).union(df.select(func.col(\"nameDest\").alias(\"id\"), func.col(\"nameDest\").alias(\"type\"))).distinct()\n",
    "\n",
    "node_features = node_features.withColumn(\"label\", extract_fraudster_udf(\"id\")).withColumn(\"type\", node_type_udf(\"type\")).withColumn(\"id\", hashnode_udf(\"id\")) \n",
    "\n",
    "\n",
    "node_features.show()"
   ]
  },
  {
   "cell_type": "code",
   "execution_count": 9,
   "metadata": {},
   "outputs": [
    {
     "name": "stdout",
     "output_type": "stream",
     "text": [
      "+--------+--------+-----------+-----------+----+------+------------------+------------------+------------------+---------------+---------------+-----+------------------+---------+\n",
      "|  source|  target|source_type|target_type|step|action|            amount|   oldbalance_orig|   newbalance_orig|oldbalance_dest|newbalance_dest|label|          org_diff|dest_diff|\n",
      "+--------+--------+-----------+-----------+----+------+------------------+------------------+------------------+---------------+---------------+-----+------------------+---------+\n",
      "|4974242a|cd23fd61|          0|          2|   1|     0| 170256.5174409235| 59.45919938690031| 170315.9766403104|            0.0|            0.0|    0| 170256.5174409235|      0.0|\n",
      "|edffbfea|47288a7f|          0|          2|   1|     0|158752.58478194074|252.22923065781498|159004.81401259854|            0.0|            0.0|    0|158752.58478194074|      0.0|\n",
      "|edffbfea|314855ff|          0|          2|   1|     0|159285.57816375262|159004.81401259854|318290.39217635116|            0.0|            0.0|    0|159285.57816375262|      0.0|\n",
      "|67f027a3|0f013a94|          0|          2|   1|     0| 17718.05320538998| 316306.8045239691| 334024.8577293591|            0.0|            0.0|    0|17718.053205389995|      0.0|\n",
      "|5a86628f|6237caa1|          0|          2|   1|     0|193486.92894072825| 73.43808584994545| 193560.3670265782|            0.0|            0.0|    0|193486.92894072825|      0.0|\n",
      "|91809ec2|a609d8b6|          0|          2|   1|     0|100946.06927150181| 1066.522113812134|102012.59138531394|            0.0|            0.0|    0|100946.06927150181|      0.0|\n",
      "|08ca97b7|6ea6b5d3|          0|          2|   1|     0|100459.76371843155| 60.82436513094145| 100520.5880835625|            0.0|            0.0|    0|100459.76371843155|      0.0|\n",
      "|08ca97b7|3df2fa55|          0|          2|   1|     0|127780.61466999972| 100520.5880835625|228301.20275356222|            0.0|            0.0|    0|127780.61466999972|      0.0|\n",
      "|c1f581f2|66b3b090|          0|          2|   1|     0| 60736.50583661602|54.721456915480736|60791.227293531505|            0.0|            0.0|    0| 60736.50583661602|      0.0|\n",
      "|dce665f7|e68c8f63|          0|          2|   1|     0| 85649.53814681339| 47.08160023190062| 85696.61974704529|            0.0|            0.0|    0| 85649.53814681339|      0.0|\n",
      "|5c40e8a2|3a7d5587|          0|          2|   1|     0| 47589.03819581661|10700.189727753903|58289.227923570514|            0.0|            0.0|    0| 47589.03819581661|      0.0|\n",
      "|a1a2d18d|3df2fa55|          0|          2|   1|     0|  70236.6440192843|45.678945229481755| 70282.32296451378|            0.0|            0.0|    0|  70236.6440192843|      0.0|\n",
      "|a14a8023|0f013a94|          0|          2|   1|     0|246381.17680412377| 15.80280374503977| 246396.9796078688|            0.0|            0.0|    0|246381.17680412377|      0.0|\n",
      "|a14a8023|f9dcd4f8|          0|          2|   1|     0|39967.548709854294| 246396.9796078688| 286364.5283177231|            0.0|            0.0|    0| 39967.54870985428|      0.0|\n",
      "|236a99ec|caf770ed|          0|          2|   1|     0|227596.52847386987|40.039666183294095|227636.56814005316|            0.0|            0.0|    0|227596.52847386987|      0.0|\n",
      "|2b9b2c2d|caf770ed|          0|          2|   1|     0|  134472.749629457| 87.80589985370366| 134560.5555293107|            0.0|            0.0|    0|  134472.749629457|      0.0|\n",
      "|f1eb73a4|04064f51|          0|          2|   1|     0| 65196.97850514256| 77.96045156756139| 65274.93895671012|            0.0|            0.0|    0| 65196.97850514256|      0.0|\n",
      "|b7150334|a4ca0025|          0|          2|   1|     0|238703.14095099005| 63.30741304319803|238766.44836403325|            0.0|            0.0|    0|238703.14095099005|      0.0|\n",
      "|b6d1db81|18508dda|          0|          2|   1|     0|315501.85557056556|10447.209786230447|  325949.065356796|            0.0|            0.0|    0|315501.85557056556|      0.0|\n",
      "|6ca4e7b5|3a7d5587|          0|          2|   1|     0| 219411.5311982038| 93.16026458297407|219504.69146278678|            0.0|            0.0|    0| 219411.5311982038|      0.0|\n",
      "+--------+--------+-----------+-----------+----+------+------------------+------------------+------------------+---------------+---------------+-----+------------------+---------+\n",
      "only showing top 20 rows"
     ]
    }
   ],
   "source": [
    "transaction_features.show()"
   ]
  },
  {
   "cell_type": "code",
   "execution_count": null,
   "metadata": {},
   "outputs": [],
   "source": []
  },
  {
   "cell_type": "code",
   "execution_count": 10,
   "metadata": {},
   "outputs": [
    {
     "name": "stdout",
     "output_type": "stream",
     "text": [
      "computing descriptive statistics for : transaction_features, version: 3\n",
      "computing feature correlation for: transaction_features, version: 3\n",
      "computing feature histograms for: transaction_features, version: 3\n",
      "computing cluster analysis for: transaction_features, version: 3\n",
      "Registering feature metadata...\n",
      "Registering feature metadata... [COMPLETE]\n",
      "Writing feature data to offline feature group (Hive)...\n",
      "Running sql: use paysim_featurestore against offline feature store\n",
      "Writing feature data to offline feature group (Hive)... [COMPLETE]\n",
      "Feature group created successfully"
     ]
    }
   ],
   "source": [
    "from hops import featurestore\n",
    "\n",
    "featurestore.create_featuregroup(\n",
    "    transaction_features,\n",
    "    \"transaction_features\",\n",
    "    description=\"transaction features\",\n",
    "    descriptive_statistics=True,\n",
    "    feature_correlation=True,\n",
    "    feature_histograms=True,\n",
    "    cluster_analysis=True,\n",
    "    featurestore=featurestore.project_featurestore(),\n",
    "    featuregroup_version= featurestore.get_latest_featuregroup_version(\"transaction_features\") + 1       \n",
    ")\n"
   ]
  },
  {
   "cell_type": "code",
   "execution_count": 11,
   "metadata": {},
   "outputs": [
    {
     "name": "stdout",
     "output_type": "stream",
     "text": [
      "computing descriptive statistics for : node_features, version: 3\n",
      "computing feature correlation for: node_features, version: 3\n",
      "Could not compute feature correlation for: node_features, version: 3, set the optional argument feature_correlation=False to skip this step,\n",
      " error: The provided spark dataframe does not contain any numeric columns. Cannot compute feature correlation on categorical columns. The numeric datatypes are: ['bigint', 'decimal', 'integer', 'int', 'double', 'long', 'float', 'short'] and the number of numeric datatypes in the dataframe is: 0 ([])\n",
      "computing feature histograms for: node_features, version: 3\n",
      "computing cluster analysis for: node_features, version: 3\n",
      "Could not compute cluster analysis for: node_features, version: 3, set the optional argument cluster_analysis=False to skip this step,\n",
      " error: The provided spark dataframe does not contain any numeric columns. Cannot compute cluster analysis with k-means on categorical columns. The numeric datatypes are: ['bigint', 'decimal', 'integer', 'int', 'double', 'long', 'float', 'short'] and the number of numeric datatypes in the dataframe is: 0 ([])\n",
      "Registering feature metadata...\n",
      "Registering feature metadata... [COMPLETE]\n",
      "Writing feature data to offline feature group (Hive)...\n",
      "Running sql: use paysim_featurestore against offline feature store\n",
      "Writing feature data to offline feature group (Hive)... [COMPLETE]\n",
      "Feature group created successfully"
     ]
    }
   ],
   "source": [
    "featurestore.create_featuregroup(\n",
    "    node_features,\n",
    "    \"node_features\",\n",
    "    description=\"node features\",\n",
    "    descriptive_statistics=True,\n",
    "    feature_correlation=True,\n",
    "    feature_histograms=True,\n",
    "    cluster_analysis=True,\n",
    "    featurestore=featurestore.project_featurestore(),\n",
    "    featuregroup_version= featurestore.get_latest_featuregroup_version(\"node_features\") + 1       \n",
    "\n",
    ")\n"
   ]
  },
  {
   "cell_type": "code",
   "execution_count": null,
   "metadata": {},
   "outputs": [],
   "source": []
  },
  {
   "cell_type": "code",
   "execution_count": 12,
   "metadata": {},
   "outputs": [
    {
     "name": "stdout",
     "output_type": "stream",
     "text": [
      "computing descriptive statistics for : transaction_features_csv, version: 3\n",
      "computing feature correlation for: transaction_features_csv, version: 3\n",
      "computing feature histograms for: transaction_features_csv, version: 3\n",
      "computing cluster analysis for: transaction_features_csv, version: 3\n",
      "Training Dataset created successfully"
     ]
    }
   ],
   "source": [
    "featurestore.create_training_dataset(\n",
    "    transaction_features, \"transaction_features_csv\",\n",
    "    description=\"transaction features for aml classification\",\n",
    "    featurestore=featurestore.project_featurestore(),\n",
    "    data_format=\"csv\",\n",
    "    training_dataset_version=featurestore.get_latest_training_dataset_version(\"transaction_features_csv\") + 1,\n",
    "    descriptive_statistics=True,\n",
    "    feature_correlation=True,\n",
    "    feature_histograms=True,\n",
    "    cluster_analysis=True,\n",
    "    stat_columns=None)\n"
   ]
  },
  {
   "cell_type": "code",
   "execution_count": null,
   "metadata": {},
   "outputs": [],
   "source": []
  },
  {
   "cell_type": "code",
   "execution_count": 13,
   "metadata": {},
   "outputs": [
    {
     "name": "stdout",
     "output_type": "stream",
     "text": [
      "computing descriptive statistics for : node_features_csv, version: 3\n",
      "computing feature correlation for: node_features_csv, version: 3\n",
      "Could not compute feature correlation for: node_features_csv, version: 3, set the optional argument feature_correlation=False to skip this step,\n",
      " error: The provided spark dataframe does not contain any numeric columns. Cannot compute feature correlation on categorical columns. The numeric datatypes are: ['bigint', 'decimal', 'integer', 'int', 'double', 'long', 'float', 'short'] and the number of numeric datatypes in the dataframe is: 0 ([])\n",
      "computing feature histograms for: node_features_csv, version: 3\n",
      "computing cluster analysis for: node_features_csv, version: 3\n",
      "Could not compute cluster analysis for: node_features_csv, version: 3, set the optional argument cluster_analysis=False to skip this step,\n",
      " error: The provided spark dataframe does not contain any numeric columns. Cannot compute cluster analysis with k-means on categorical columns. The numeric datatypes are: ['bigint', 'decimal', 'integer', 'int', 'double', 'long', 'float', 'short'] and the number of numeric datatypes in the dataframe is: 0 ([])\n",
      "Training Dataset created successfully"
     ]
    }
   ],
   "source": [
    "featurestore.create_training_dataset(\n",
    "    node_features.repartition(1), \"node_features_csv\",\n",
    "    description=\"node features for aml classification\",\n",
    "    featurestore=featurestore.project_featurestore(),\n",
    "    data_format=\"csv\",\n",
    "    training_dataset_version=featurestore.get_latest_training_dataset_version(\"node_features_csv\") + 1,\n",
    "    descriptive_statistics=True,\n",
    "    feature_correlation=True,\n",
    "    feature_histograms=True,\n",
    "    cluster_analysis=True,\n",
    "    stat_columns=None)\n"
   ]
  },
  {
   "cell_type": "code",
   "execution_count": null,
   "metadata": {},
   "outputs": [],
   "source": []
  }
 ],
 "metadata": {
  "kernelspec": {
   "display_name": "PySpark",
   "language": "python",
   "name": "pysparkkernel"
  },
  "language_info": {
   "codemirror_mode": {
    "name": "python",
    "version": 3
   },
   "mimetype": "text/x-python",
   "name": "pyspark",
   "pygments_lexer": "python3"
  }
 },
 "nbformat": 4,
 "nbformat_minor": 4
}