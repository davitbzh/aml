{
 "cells": [
  {
   "cell_type": "code",
   "execution_count": 1,
   "metadata": {},
   "outputs": [
    {
     "name": "stdout",
     "output_type": "stream",
     "text": [
      "Starting Spark application\n"
     ]
    },
    {
     "data": {
      "text/html": [
       "<table>\n",
       "<tr><th>ID</th><th>YARN Application ID</th><th>Kind</th><th>State</th><th>Spark UI</th><th>Driver log</th></tr><tr><td>67</td><td>application_1598227897403_0031</td><td>pyspark</td><td>idle</td><td><a target=\"_blank\" href=\"http://resourcemanager.service.consul:8088/proxy/application_1598227897403_0031/\">Link</a></td><td><a target=\"_blank\" href=\"http://hopsworks0.logicalclocks.com:8042/node/containerlogs/container_e02_1598227897403_0031_01_000001/paysim__meb10000\">Link</a></td></tr></table>"
      ],
      "text/plain": [
       "<IPython.core.display.HTML object>"
      ]
     },
     "metadata": {},
     "output_type": "display_data"
    },
    {
     "name": "stdout",
     "output_type": "stream",
     "text": [
      "SparkSession available as 'spark'.\n",
      "<pyspark.sql.session.SparkSession object at 0x7f59ce742400>"
     ]
    }
   ],
   "source": [
    "spark"
   ]
  },
  {
   "cell_type": "code",
   "execution_count": null,
   "metadata": {},
   "outputs": [],
   "source": []
  },
  {
   "cell_type": "code",
   "execution_count": 2,
   "metadata": {},
   "outputs": [],
   "source": [
    "def aml_classifier(n_layers,n_neurons,l_rate):\n",
    "    \n",
    "    import os\n",
    "    import sys\n",
    "    import uuid\n",
    "    import random\n",
    "    \n",
    "    import numpy as np\n",
    "    \n",
    "    from tensorflow import keras\n",
    "    import tensorflow as tf\n",
    "    from tensorflow.io import FixedLenFeature\n",
    "    from tensorflow.keras.datasets import mnist\n",
    "    from tensorflow.keras.models import Sequential\n",
    "    from tensorflow.keras.layers import Dense, Dropout, Flatten\n",
    "    from tensorflow.keras.layers import Conv2D, MaxPooling2D\n",
    "    from tensorflow.keras.callbacks import TensorBoard\n",
    "    from tensorflow.keras import backend as K\n",
    "\n",
    "    import math\n",
    "    from hops import tensorboard\n",
    "\n",
    "    from hops import model as hops_model\n",
    "    from hops import hdfs, featurestore\n",
    "\n",
    "    import pydoop.hdfs as pydoop\n",
    "    \n",
    "\n",
    "    batch_size=32\n",
    "    num_epochs=20\n",
    "    num_classes = 1\n",
    "    \n",
    "    # Define input function\n",
    "    def create_tf_dataset(n_epochs, b_size):\n",
    "        dataset_dir = featurestore.get_training_dataset_path(\"embeddings_training_dataset\",\n",
    "                                                                featurestore=featurestore.project_featurestore(),\n",
    "                                                                training_dataset_version=featurestore.get_latest_training_dataset_version(\"embeddings_training_dataset\")\n",
    "                                                            )\n",
    "    \n",
    "        input_files = tf.io.gfile.glob(dataset_dir.replace(\"hopsfs\",\"hdfs\") + \"/part-r-*\")\n",
    "        dataset = tf.data.TFRecordDataset(input_files)\n",
    "        tf_record_schema = featurestore.get_training_dataset_tf_record_schema(\"embeddings_training_dataset\")\n",
    "        feature_names = feature_names = [feat.name for feat in tf_record_schema]\n",
    "        feature_names = [feat for feat in tf_record_schema]\n",
    "        label_name = \"label\"\n",
    "        feature_names.remove(label_name)\n",
    "\n",
    "        def decode(example_proto):\n",
    "            example = tf.io.parse_single_example(example_proto, tf_record_schema)\n",
    "            x = []\n",
    "            for feature_name in feature_names:\n",
    "                if feature_name != \"label\" and feature_name != \"id\":\n",
    "                    x.append(example[feature_name])                \n",
    "            y = [tf.cast(example[label_name], tf.float32)]\n",
    "            if len(x) == 1:\n",
    "                x = x[0]\n",
    "            else:\n",
    "                x = tf.stack(x)            \n",
    "            return x,y\n",
    "\n",
    "        dataset = dataset.map(decode).shuffle(1000).batch(b_size).repeat(n_epochs)\n",
    "        return dataset\n",
    "\n",
    "    # Define a Keras Model.\n",
    "    model = tf.keras.Sequential()\n",
    "    model.add(tf.keras.layers.Dense(n_neurons, activation='relu', input_shape=(128,)))\n",
    "    for _ in n_layers:\n",
    "        model.add(tf.keras.layers.Dense(n_neurons, activation='relu'))\n",
    "\n",
    "    # Compile the model.\n",
    "    model.compile(loss=tf.keras.losses.BinaryCrossentropy(from_logits=True),\n",
    "                  optimizer= tf.keras.optimizers.Adam(l_rate),\n",
    "                  metrics=['accuracy']\n",
    "                 )\n",
    "      \n",
    "    callbacks = [\n",
    "        tf.keras.callbacks.TensorBoard(log_dir=tensorboard.logdir()),\n",
    "        tf.keras.callbacks.ModelCheckpoint(filepath=tensorboard.logdir()),\n",
    "    ]\n",
    "    model.fit(create_tf_dataset(num_epochs, batch_size), \n",
    "#        verbose=0,\n",
    "        epochs=num_epochs, \n",
    "        steps_per_epoch=10,\n",
    "        validation_data=create_tf_dataset(num_epochs, batch_size),\n",
    "        validation_steps=1,                    \n",
    "        callbacks=callbacks\n",
    "    )\n",
    "    \n",
    "    score = model.evaluate(create_tf_dataset(num_epochs, batch_size), steps=1)\n",
    "\n",
    "\n",
    "    export_path = os.getcwd() + '/model-' + str(uuid.uuid4())\n",
    "    print('Exporting trained model to: {}'.format(export_path))\n",
    "    \n",
    "    tf.saved_model.save(model, export_path)\n",
    "\n",
    "    print('Done exporting!')\n",
    "    \n",
    "    metrics = metrics={'accuracy': score[1]}\n",
    "    \n",
    "    hops_model.export(export_path, \"aml\", metrics=metrics)    \n",
    "    \n",
    "    return metrics"
   ]
  },
  {
   "cell_type": "code",
   "execution_count": 3,
   "metadata": {},
   "outputs": [
    {
     "name": "stdout",
     "output_type": "stream",
     "text": [
      "Finished Experiment \n",
      "\n",
      "('hdfs://rpc.namenode.service.consul:8020/Projects/paysim/Experiments/application_1598227897403_0031_1', {'accuracy': 0.975, 'log': 'Experiments/application_1598227897403_0031_1/output.log'})"
     ]
    }
   ],
   "source": [
    "from hops import hdfs\n",
    "import json\n",
    "best_hyperparams_path = \"Resources/aml_ff_best_hp.json\n",
    "best_hyperparams = json.loads(hdfs.load(best_hyperparams_path))\n",
    "args_dict = {}\n",
    "for key in best_hyperparams.keys():\n",
    "    args_dict[key] = [best_hyperparams[key]]\n",
    "    \n",
    "from hops import experiment\n",
    "from hops import hdfs\n",
    "\n",
    "experiment.launch(aml_classifier, args_dict, name='aml classifier', local_logdir=True, metric_key='accuracy')"
   ]
  },
  {
   "cell_type": "code",
   "execution_count": null,
   "metadata": {},
   "outputs": [],
   "source": []
  }
 ],
 "metadata": {
  "kernelspec": {
   "display_name": "PySpark",
   "language": "python",
   "name": "pysparkkernel"
  },
  "language_info": {
   "codemirror_mode": {
    "name": "python",
    "version": 3
   },
   "mimetype": "text/x-python",
   "name": "pyspark",
   "pygments_lexer": "python3"
  }
 },
 "nbformat": 4,
 "nbformat_minor": 4
}